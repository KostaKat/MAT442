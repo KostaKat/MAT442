{
  "cells": [
    {
      "cell_type": "markdown",
      "metadata": {
        "id": "view-in-github",
        "colab_type": "text"
      },
      "source": [
        "<a href=\"https://colab.research.google.com/github/KostaKat/MAT442/blob/main/hw1_4.ipynb\" target=\"_parent\"><img src=\"https://colab.research.google.com/assets/colab-badge.svg\" alt=\"Open In Colab\"/></a>"
      ]
    },
    {
      "cell_type": "markdown",
      "metadata": {
        "id": "v4fSyTJgnmQQ"
      },
      "source": [
        "# 1.4 Principle Component Analysis (PCA)\n",
        "PCA is a method in data science that reduces the dimensionality of a dataset. It does this by projecting each sample in the dataset onto its first few principal components while still preserving the data's variance. However, before diving into this, one must first learn about Singular Value Decomposition, an integral part of PCA."
      ]
    },
    {
      "cell_type": "markdown",
      "metadata": {
        "id": "X1umeyrHnmQR"
      },
      "source": [
        "\n",
        "\n",
        "## Singular Value Decomposition (SVD)\n",
        "\n",
        "SVD's basic mechanics are that it decomposes a matrix into three matrices, formally denoted as:\n",
        "\n",
        "Let $A$ be an $m \\times n$ matrix. SVD expresses $A$ as a product of three matrices:\n",
        "$\n",
        "A = U \\Sigma V^T\n",
        "$\n",
        "Where:\n",
        "- **$U$** is an $m \\times m$ orthogonal matrix containing the **left singular vectors**.\n",
        "- **$\\Sigma$** is an $m \\times n$ diagonal matrix whose diagonal entries are the **singular values** $ \\sigma_1 \\geq \\sigma_2 \\geq \\dots \\geq \\sigma_r \\geq 0 $.\n",
        "- **$V^T$** is the transpose of an $n \\times n$ orthogonal matrix containing the **right singular vectors**.\n",
        "\n",
        "#### Properties:\n",
        "- The **singular values** $ \\sigma_i $ are the square roots of the eigenvalues of $A^T A$. They measure the variance of each singular vector in the matrix, which represents their importance to the matrix.\n",
        "- The **left singular vectors**, which are columns of $U$, are eigenvectors of $A A^T$. They represent the relationships between the rows of $A$ or the column space of $A$.\n",
        "- The **right singular vectors**, which are columns of $V$, are eigenvectors of $A^T A$. They represent the relationships between the columns or the row space of $A$.\n",
        "- $U$ and $V$ are **orthogonal** matrices.\n",
        "- Taking the rank of A gives the total number of non-zero singular values, given the amount of independent dimensions of a matrix, denoted as r.\n",
        "- $\\Sigma$ has diagonal entries that represent the first $r$ independent dimensions of the matrix.\n",
        "\n",
        "#### Supporting Theorems:\n",
        "The following theorem, theorem 1.4.1, supports taking the rank of A gives the total number of non-zero singular values, given the amount of independent dimensions of a matrix.\n",
        "\n",
        "Theorem 1.4.1:\n",
        "If an $m \\times n$ matrix $A$ has $r$ nonzero singular values, $ \\sigma_1, \\sigma_2, \\dots, \\sigma_r \\geq 0 $ with $\\sigma_{r+1} = \\dots = \\sigma_{n} = 0 $, then the dimension of $\\text{col}(A) = r $\n",
        "\n",
        "Furthermore, theorem 1.4.2 supports, The Singular Value Decomposition theorem, that there exist an SVD for every matrix.\n",
        "\n",
        "\n",
        "It is apparent why SVD is important in dimensionality reduction. If we can represent every matrix in three components, with one of those representing the overall variance of each dimension, we can ultimately reduce dimensions by removing those that do not have high variance.\n",
        "\n",
        "\n"
      ]
    },
    {
      "cell_type": "code",
      "execution_count": null,
      "metadata": {
        "id": "WT9IfmgonmQR",
        "outputId": "ecde3731-e7ab-43cb-f1b4-1c67565cd92d"
      },
      "outputs": [
        {
          "name": "stdout",
          "output_type": "stream",
          "text": [
            "A:\n",
            " [[0.52227059 0.03582323 0.33453346]\n",
            " [0.0014078  0.84180191 0.02851735]\n",
            " [0.47652875 0.18321506 0.84829827]\n",
            " [0.87416979 0.24424237 0.64453432]\n",
            " [0.15915123 0.45360983 0.04785912]]\n",
            "After SVD:\n",
            " [[0.52227059 0.03582323 0.33453346]\n",
            " [0.0014078  0.84180191 0.02851735]\n",
            " [0.47652875 0.18321506 0.84829827]\n",
            " [0.87416979 0.24424237 0.64453432]\n",
            " [0.15915123 0.45360983 0.04785912]]\n",
            "Error: 1.8809938697124834e-15\n"
          ]
        }
      ],
      "source": [
        "import numpy as np\n",
        "\n",
        "A = np.random.rand(5, 3)\n",
        "\n",
        "print(\"A:\\n\", A)\n",
        "\n",
        "U, Sigma, Vt = np.linalg.svd(A, full_matrices=False)\n",
        "\n",
        "Sigma_matrix = np.diag(Sigma)  # Convert singular values into a diagonal matrix\n",
        "\n",
        "reconstructed_A = U @ Sigma_matrix @ Vt\n",
        "\n",
        "print(f\"After SVD:\\n {reconstructed_A}\")\n",
        "\n"
      ]
    },
    {
      "cell_type": "markdown",
      "metadata": {
        "id": "NN3XSqJtnmQS"
      },
      "source": [
        "## Low-Rank Matrix Approximations\n",
        "Low-Rank Matrix approximation is a tool that reduces dimensionality of a matrix by representing the matrix in terms of its highest variant singular values. Before diving into this method a key concept is **matrix norms** which is the difference between two matrixes. Specifically, the induced norm or  **2-norm** of a matrix is its highest singular value. This is mathematically expressed as:\n",
        "$\n",
        "||A||_2 = \\max_{\\mathbf{x} \\neq 0} \\frac{||A \\mathbf{x}||}{||\\mathbf{x}||} = \\max_{x \\neq 0} \\frac{||Ax||}{||x||} = \\max_{x \\neq 0} \\sqrt{x^T A^T A x}\n",
        "$\n",
        "\n",
        "Futhermore, another key part is that every matrix can be broken down into $A = U \\Sigma V^T$ but this can be further broken down into:\n",
        "\n",
        "$\n",
        "A = \\sum_{j=1}^{r} \\sigma_j u_j v_j^T\n",
        "$\n",
        "\n",
        "This leads us to the general gist of Low-Ran Matrix approximations, we could break down the matrix further by creating a truncating matrix and making a matrix $A_k$, representing it by its highest singular values. This is formally written as:\n",
        "\n",
        "\n",
        "For $ k < r $, truncate the sum at the $ k $-th term:\n",
        "\n",
        "$\n",
        "A_k = \\sum_{j=1}^{k} \\sigma_j u_j v_j^T\n",
        "$\n",
        "#### Supporting lemmas and theorems:\n",
        "**Lemma 1.4.4 (Matrix Norms and Singular Values)**, formally written as $ ||A - A_k||_2 = \\sigma_{k+1} $ says that the difference between the rank approximation of a matrix and the original matrix is the values after the trancacuted form gets cut off. Further cementing its oprixmation based on the highest singular values.\n",
        "\n",
        "\n",
        "**Theorem 1.4.5 (Eckart-Young-Mirsky Theorem)**, formally written as $ ||A - A_k||_2 \\leq ||A - B||_2 $ states that  truncating SVD is the best possible approximation of A in a lower dimensional representation\n"
      ]
    },
    {
      "cell_type": "code",
      "execution_count": null,
      "metadata": {
        "id": "2hV6_JlonmQS",
        "outputId": "f054c3ba-f018-419f-9ac6-1b0721e07b14"
      },
      "outputs": [
        {
          "name": "stdout",
          "output_type": "stream",
          "text": [
            "Original Matrix A:\n",
            " [[0.92157516 0.93362285 0.89324413]\n",
            " [0.02618489 0.32514722 0.72626074]\n",
            " [0.24919514 0.97166595 0.75181918]\n",
            " [0.40211015 0.34635971 0.10646387]\n",
            " [0.67600012 0.73327059 0.47859168]]\n",
            "\n",
            "Low-Rank Approximation A_k (Rank 2):\n",
            " [[ 0.86813383  1.03776752  0.8178195 ]\n",
            " [-0.03531493  0.44499599  0.63946274]\n",
            " [ 0.33510169  0.80425416  0.87306372]\n",
            " [ 0.42016801  0.31116916  0.1319499 ]\n",
            " [ 0.6874162   0.7110233   0.49470382]]\n",
            "\n",
            " 2-norm error: 0.31349093111161974\n"
          ]
        }
      ],
      "source": [
        "import numpy as np\n",
        "from sklearn.decomposition import TruncatedSVD\n",
        "\n",
        "\n",
        "A = np.random.rand(5, 3)\n",
        "k = 2  # Rank of the approximation\n",
        "\n",
        "# TruncatedSVD to keeping the  top k singular values\n",
        "svd = TruncatedSVD(n_components=k)\n",
        "\n",
        "# Perform SVD to get the truncated U_k and Sigma_k\n",
        "U_k = svd.fit_transform(A)\n",
        "\n",
        "# Retrieve right singular vectors\n",
        "V_k = svd.components_\n",
        "\n",
        "# Compute the low-rank approximation A_k\n",
        "A_k = np.dot(U_k, V_k)\n",
        "\n",
        "# Print the original matrix A\n",
        "print(\"Original Matrix A:\\n\", A)\n",
        "\n",
        "# Print the low-rank approximation A_k\n",
        "print(f\"\\nLow-Rank Approximation A_k (Rank {k}):\\n\", A_k)\n",
        "\n",
        "# Compute and print the 2-norm error between A and A_k\n",
        "error = np.linalg.norm(A - A_k, ord=2)\n",
        "print(f\"\\n 2-norm error: {error}\")\n"
      ]
    },
    {
      "cell_type": "markdown",
      "metadata": {
        "id": "A-MLDoUhnmQS"
      },
      "source": [
        "### Principal Component Analysis (PCA)\n",
        "Now, let's jump into the application of these concepts. PCA is a method to transform data into a lower-dimensional space, and it is done by the following steps:\n",
        "\n",
        "First, the sample mean of the data is calculated, representing the center point of the data, and then subtracted from the original samples. This is known as the Mean-Deviation form. This effectively centers the data at the origin.\n",
        "\n"
      ]
    },
    {
      "cell_type": "code",
      "execution_count": null,
      "metadata": {
        "id": "ebldaivsnmQS",
        "outputId": "6248036a-f611-42e6-963f-838336c4e750"
      },
      "outputs": [
        {
          "name": "stdout",
          "output_type": "stream",
          "text": [
            "Wine dataset shape: (178, 13)\n"
          ]
        }
      ],
      "source": [
        "# Lets say that we have a dataset on wine\n",
        "# This dataset contains 178 samples of wine, each with 13 features\n",
        "# The features include the alcohol content, malic acid content, ash content, etc.\n",
        "# Lets try to represent the different types of wine in 2 features, for a easier determination of the wine type\n",
        "from sklearn.datasets import load_wine\n",
        "\n",
        "# Load the wine dataset\n",
        "wine = load_wine()\n",
        "X = wine.data    # Features (178 samples, 13 features)\n",
        "y = wine.target  # Labels (wine types)\n",
        "\n",
        "print(\"Wine dataset shape:\", X.shape)\n"
      ]
    },
    {
      "cell_type": "code",
      "execution_count": null,
      "metadata": {
        "id": "PKk20ZfWnmQS",
        "outputId": "98420a3b-b2c4-4473-893d-d71a9e24340f"
      },
      "outputs": [
        {
          "name": "stdout",
          "output_type": "stream",
          "text": [
            "Centered data point after mean-deviation: [ 1.22938202e+00 -6.26348315e-01  6.34831461e-02 -3.89494382e+00\n",
            "  2.72584270e+01  5.04887640e-01  1.03073034e+00 -8.18539326e-02\n",
            "  6.99101124e-01  5.81910118e-01  8.25505618e-02  1.30831461e+00\n",
            "  3.18106742e+02]\n"
          ]
        }
      ],
      "source": [
        "import matplotlib.pyplot as plt\n",
        "# sample mean of the features\n",
        "mean = np.mean(X, axis=0)\n",
        "\n",
        "# mean-deviation form of the data\n",
        "X_centered = X - mean\n",
        "\n"
      ]
    },
    {
      "cell_type": "markdown",
      "metadata": {
        "id": "rkGSFYMPnmQS"
      },
      "source": [
        "The next step is to get the **sample co-variance of the data** . Formally denoted as,\n",
        "In the provided image, the equation for the **sample covariance matrix** is:\n",
        "\n",
        "$\n",
        "S = \\frac{1}{N-1} B B^T\n",
        "$\n",
        "\n",
        "Where:\n",
        "\n",
        "- $ S $ is the **covariance matrix**.\n",
        "- $ N $ is the number of data points.\n",
        "- $ B $ is the matrix of data points, each column now being centered\n",
        "\n",
        "\n",
        "This will capture the variance between each feature in the dataset. It is important to note that $B B^T$ is a positive semi-definite. The whole goal of PCA is to find the orthonormal vectors that maximize the variance also know as the principle components. We can express this in terms of eigenvalues. We want to find the largest eigenvectors of the sample covariance matrix. Lastly, the total variance of the data is captured by the sum of all the eigenvalues of S showing how many principle components to take to keep the overall variance of the data.\n"
      ]
    },
    {
      "cell_type": "code",
      "execution_count": null,
      "metadata": {
        "id": "dUe4OSnRnmQS",
        "outputId": "57a3ccca-c00e-4cad-eaed-1d1ea6fc6a2e"
      },
      "outputs": [
        {
          "data": {
            "image/png": "[encoded data removed]",
            "text/plain": [
              "<Figure size 800x600 with 1 Axes>"
            ]
          },
          "metadata": {},
          "output_type": "display_data"
        }
      ],
      "source": [
        "# Covariance matrix of the centered data\n",
        "cov_matrix = np.cov(X_centered, rowvar=False)\n",
        "\n",
        "# Perform eigen-decomposition of the covariance matrix\n",
        "eigenvalues, eigenvectors = np.linalg.eigh(cov_matrix)\n",
        "\n",
        "# Sort eigenvalues and eigenvectors in descending order\n",
        "sorted_indices = np.argsort(eigenvalues)[::-1]\n",
        "eigenvalues = eigenvalues[sorted_indices]\n",
        "eigenvectors = eigenvectors[:, sorted_indices]\n",
        "\n",
        "# Project the data onto the principal components\n",
        "X_pca = np.dot(X_centered, eigenvectors)\n",
        "\n",
        "# Select the number of components\n",
        "n_components = 2\n",
        "X_reduced = X_pca[:, :n_components]\n",
        "\n",
        "# Plot the reduced data (2D)\n",
        "plt.figure(figsize=(8, 6))\n",
        "plt.scatter(X_reduced[:, 0], X_reduced[:, 1], c='blue', marker='o', edgecolor='k')\n",
        "plt.title(f\"PCA with {n_components} components\")\n",
        "plt.xlabel('PC1')\n",
        "plt.ylabel('PC2')\n",
        "plt.grid(True)\n",
        "plt.show()"
      ]
    }
  ],
  "metadata": {
    "kernelspec": {
      "display_name": "base",
      "language": "python",
      "name": "python3"
    },
    "language_info": {
      "codemirror_mode": {
        "name": "ipython",
        "version": 3
      },
      "file_extension": ".py",
      "mimetype": "text/x-python",
      "name": "python",
      "nbconvert_exporter": "python",
      "pygments_lexer": "ipython3",
      "version": "3.12.2"
    },
    "colab": {
      "provenance": [],
      "include_colab_link": true
    }
  },
  "nbformat": 4,
  "nbformat_minor": 0
}